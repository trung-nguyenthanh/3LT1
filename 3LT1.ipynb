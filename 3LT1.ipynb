{
 "cells": [
  {
   "cell_type": "code",
   "execution_count": 6,
   "id": "9debb362",
   "metadata": {},
   "outputs": [
    {
     "name": "stdout",
     "output_type": "stream",
     "text": [
      "Ho ten: \n",
      "MSSV: \n",
      "Nhap vao so n nguyen duong: 5\n",
      "Nhap vao phan tu cho list: -2\n",
      "Nhap vao phan tu cho list: 1\n",
      "Nhap vao phan tu cho list: 5\n",
      "Nhap vao phan tu cho list: 9\n",
      "Nhap vao phan tu cho list: -4\n",
      "Tong day con toan duong lon nhat:  15.0\n",
      "Phan tu co gia tri gan nhat:  1.0\n"
     ]
    }
   ],
   "source": [
    "def nhap_dl():\n",
    "    list_t = []\n",
    "    while True:\n",
    "        n = int(input(\"Nhap vao so n nguyen duong: \"))\n",
    "        if (n > 0):\n",
    "            break\n",
    "    for i in range(0,n):\n",
    "        tmp = float(input(\"Nhap vao phan tu cho list: \"))\n",
    "        list_t.append(tmp)\n",
    "    return list_t\n",
    "def tinh_tong(list_t,n):\n",
    "    i = 0\n",
    "    sum_n = 0\n",
    "    while (i < n):\n",
    "        tmp = 0\n",
    "        if (list_t[i] > 0):\n",
    "            j = 0\n",
    "            while (list_t[i+j] > 0):\n",
    "                tmp += list_t[i+j]\n",
    "                j += 1\n",
    "            i = i + j + 1\n",
    "        else:\n",
    "            i += 1\n",
    "        if (tmp > sum_n):\n",
    "            sum_n = tmp\n",
    "    return sum_n\n",
    "def gia_tri(list_t,n):\n",
    "    sum_n = 0\n",
    "    for i in range(0,n):\n",
    "        sum_n += list_t[i]\n",
    "    avg = sum_n / n\n",
    "    min_n = list_t[0]\n",
    "    for i in range(1,n):\n",
    "        if (abs(list_t[i] - avg) < abs(min_n - avg)):\n",
    "            min_n = list_t[i]\n",
    "    return min_n\n",
    "print(\"Ho ten: \")\n",
    "print(\"MSSV: \")\n",
    "list_t = nhap_dl()\n",
    "n = len(list_t)\n",
    "print(\"Tong day con toan duong lon nhat: \", tinh_tong(list_t,n))\n",
    "print(\"Phan tu co gia tri gan nhat: \", gia_tri(list_t,n))"
   ]
  },
  {
   "cell_type": "code",
   "execution_count": null,
   "id": "66f7ec14",
   "metadata": {},
   "outputs": [],
   "source": []
  }
 ],
 "metadata": {
  "kernelspec": {
   "display_name": "Python 3 (ipykernel)",
   "language": "python",
   "name": "python3"
  },
  "language_info": {
   "codemirror_mode": {
    "name": "ipython",
    "version": 3
   },
   "file_extension": ".py",
   "mimetype": "text/x-python",
   "name": "python",
   "nbconvert_exporter": "python",
   "pygments_lexer": "ipython3",
   "version": "3.7.3"
  }
 },
 "nbformat": 4,
 "nbformat_minor": 5
}
